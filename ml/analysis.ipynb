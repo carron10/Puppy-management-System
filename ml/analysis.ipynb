{
 "cells": [
  {
   "cell_type": "code",
   "execution_count": 1,
   "metadata": {},
   "outputs": [],
   "source": [
    "import pandas as pd\n",
    "import numpy as np\n",
    "from sklearn.preprocessing import OneHotEncoder\n",
    "from sklearn.preprocessing import LabelEncoder\n",
    "from sklearn.compose import make_column_transformer\n",
    "from sklearn.pipeline import make_pipeline\n",
    "from sklearn.model_selection import train_test_split\n",
    "from sklearn.linear_model import LogisticRegression\n",
    "from sklearn.svm import SVC\n",
    "import matplotlib.pyplot as plt\n",
    "from sklearn.tree import DecisionTreeClassifier\n",
    "from sklearn.ensemble import RandomForestClassifier\n",
    "from sklearn.naive_bayes import GaussianNB\n",
    "from sklearn.utils import shuffle\n",
    "from keras.utils import to_categorical\n",
    "from sklearn.neighbors import KNeighborsClassifier\n",
    "from keras.models import Sequential\n",
    "from sklearn.preprocessing import scale\n",
    "import tensorflow as tf\n",
    "from keras.layers import Dense\n",
    "import pickle\n",
    "from sklearn.metrics import accuracy_score"
   ]
  },
  {
   "cell_type": "markdown",
   "metadata": {},
   "source": [
    "Read data from excel files"
   ]
  },
  {
   "cell_type": "code",
   "execution_count": 2,
   "metadata": {},
   "outputs": [],
   "source": [
    "train=pd.read_excel(\"train.xlsx\")\n",
    "puppies=pd.read_excel(\"puppies.xlsx\")"
   ]
  },
  {
   "cell_type": "markdown",
   "metadata": {},
   "source": [
    "jOIN THE DATA."
   ]
  },
  {
   "cell_type": "code",
   "execution_count": 3,
   "metadata": {},
   "outputs": [],
   "source": [
    "df=train.join(puppies.set_index('PuppyNumber'),on=\"PuppyNumber\",how='left',lsuffix='', rsuffix='_other')\n",
    "df.drop(columns=[\"PuppyNumber\"],inplace=True)\n",
    "df.rename(columns=lambda x: x.strip(), inplace=True)\n",
    "df['breed']=df['breed'].apply(lambda x: x.strip())"
   ]
  },
  {
   "cell_type": "markdown",
   "metadata": {},
   "source": [
    "DROP COLUMNS WHICH ARE  LESS SIGNIFICANT"
   ]
  },
  {
   "cell_type": "code",
   "execution_count": 4,
   "metadata": {},
   "outputs": [
    {
     "data": {
      "text/html": [
       "<div>\n",
       "<style scoped>\n",
       "    .dataframe tbody tr th:only-of-type {\n",
       "        vertical-align: middle;\n",
       "    }\n",
       "\n",
       "    .dataframe tbody tr th {\n",
       "        vertical-align: top;\n",
       "    }\n",
       "\n",
       "    .dataframe thead th {\n",
       "        text-align: right;\n",
       "    }\n",
       "</style>\n",
       "<table border=\"1\" class=\"dataframe\">\n",
       "  <thead>\n",
       "    <tr style=\"text-align: right;\">\n",
       "      <th></th>\n",
       "      <th>Day</th>\n",
       "      <th>Weight</th>\n",
       "      <th>Health</th>\n",
       "      <th>Adult weight</th>\n",
       "      <th>Number of litters</th>\n",
       "      <th>Average number of puppies per litter</th>\n",
       "      <th>Total number of puppies</th>\n",
       "      <th>breed</th>\n",
       "      <th>sex</th>\n",
       "      <th>bith weight</th>\n",
       "      <th>Parent Age</th>\n",
       "    </tr>\n",
       "  </thead>\n",
       "  <tbody>\n",
       "    <tr>\n",
       "      <th>0</th>\n",
       "      <td>1</td>\n",
       "      <td>525.168006</td>\n",
       "      <td>G</td>\n",
       "      <td>28.3</td>\n",
       "      <td>2</td>\n",
       "      <td>9</td>\n",
       "      <td>18</td>\n",
       "      <td>German Shepherd</td>\n",
       "      <td>M</td>\n",
       "      <td>445</td>\n",
       "      <td>1.5</td>\n",
       "    </tr>\n",
       "    <tr>\n",
       "      <th>1</th>\n",
       "      <td>1</td>\n",
       "      <td>584.848852</td>\n",
       "      <td>M</td>\n",
       "      <td>28.3</td>\n",
       "      <td>2</td>\n",
       "      <td>9</td>\n",
       "      <td>18</td>\n",
       "      <td>German Shepherd</td>\n",
       "      <td>M</td>\n",
       "      <td>445</td>\n",
       "      <td>1.5</td>\n",
       "    </tr>\n",
       "    <tr>\n",
       "      <th>2</th>\n",
       "      <td>1</td>\n",
       "      <td>632.918388</td>\n",
       "      <td>V</td>\n",
       "      <td>28.3</td>\n",
       "      <td>2</td>\n",
       "      <td>9</td>\n",
       "      <td>18</td>\n",
       "      <td>German Shepherd</td>\n",
       "      <td>M</td>\n",
       "      <td>423</td>\n",
       "      <td>1.5</td>\n",
       "    </tr>\n",
       "    <tr>\n",
       "      <th>3</th>\n",
       "      <td>1</td>\n",
       "      <td>350.110113</td>\n",
       "      <td>M</td>\n",
       "      <td>28.3</td>\n",
       "      <td>2</td>\n",
       "      <td>9</td>\n",
       "      <td>18</td>\n",
       "      <td>German Shepherd</td>\n",
       "      <td>M</td>\n",
       "      <td>392</td>\n",
       "      <td>1.5</td>\n",
       "    </tr>\n",
       "    <tr>\n",
       "      <th>4</th>\n",
       "      <td>1</td>\n",
       "      <td>560.672904</td>\n",
       "      <td>M</td>\n",
       "      <td>28.3</td>\n",
       "      <td>2</td>\n",
       "      <td>9</td>\n",
       "      <td>18</td>\n",
       "      <td>German Shepherd</td>\n",
       "      <td>M</td>\n",
       "      <td>443</td>\n",
       "      <td>1.5</td>\n",
       "    </tr>\n",
       "  </tbody>\n",
       "</table>\n",
       "</div>"
      ],
      "text/plain": [
       "   Day      Weight Health  Adult weight  Number of litters  \\\n",
       "0    1  525.168006      G          28.3                  2   \n",
       "1    1  584.848852      M          28.3                  2   \n",
       "2    1  632.918388      V          28.3                  2   \n",
       "3    1  350.110113      M          28.3                  2   \n",
       "4    1  560.672904      M          28.3                  2   \n",
       "\n",
       "   Average number of puppies per litter  Total number of puppies  \\\n",
       "0                                     9                       18   \n",
       "1                                     9                       18   \n",
       "2                                     9                       18   \n",
       "3                                     9                       18   \n",
       "4                                     9                       18   \n",
       "\n",
       "             breed sex  bith weight  Parent Age  \n",
       "0  German Shepherd   M          445         1.5  \n",
       "1  German Shepherd   M          445         1.5  \n",
       "2  German Shepherd   M          423         1.5  \n",
       "3  German Shepherd   M          392         1.5  \n",
       "4  German Shepherd   M          443         1.5  "
      ]
     },
     "execution_count": 4,
     "metadata": {},
     "output_type": "execute_result"
    }
   ],
   "source": [
    "df.head()"
   ]
  },
  {
   "cell_type": "code",
   "execution_count": 5,
   "metadata": {},
   "outputs": [],
   "source": [
    "df['breed']=df['breed'].astype('category')\n",
    "df['breed_codes']=df['breed'].cat.codes\n",
    "df['sex']=df['sex'].astype('category')\n",
    "df['sex_codes']=df['sex'].cat.codes\n",
    "\n",
    "df['Health']=df['Health'].astype('category')\n",
    "df['Health_codes']=df['Health'].cat.codes"
   ]
  },
  {
   "cell_type": "code",
   "execution_count": 6,
   "metadata": {},
   "outputs": [
    {
     "data": {
      "text/plain": [
       "Day                                        int64\n",
       "Weight                                   float64\n",
       "Health                                  category\n",
       "Adult weight                             float64\n",
       "Number of litters                          int64\n",
       "Average number of puppies per litter       int64\n",
       "Total number of puppies                    int64\n",
       "breed                                   category\n",
       "sex                                     category\n",
       "bith weight                                int64\n",
       "Parent Age                               float64\n",
       "breed_codes                                 int8\n",
       "sex_codes                                   int8\n",
       "Health_codes                                int8\n",
       "dtype: object"
      ]
     },
     "execution_count": 6,
     "metadata": {},
     "output_type": "execute_result"
    }
   ],
   "source": [
    "df.dtypes"
   ]
  },
  {
   "cell_type": "code",
   "execution_count": null,
   "metadata": {},
   "outputs": [],
   "source": [
    "numerical_cols=df.select_dtypes(include=['int', 'float','int8'])\n",
    "numerical_cols.corr()"
   ]
  },
  {
   "cell_type": "code",
   "execution_count": 8,
   "metadata": {},
   "outputs": [
    {
     "data": {
      "text/plain": [
       "Day                                     0.029768\n",
       "Weight                                  0.021706\n",
       "Adult weight                           -0.004023\n",
       "Number of litters                       0.000355\n",
       "Average number of puppies per litter   -0.003742\n",
       "Total number of puppies                -0.002049\n",
       "bith weight                            -0.014244\n",
       "Parent Age                              0.020072\n",
       "breed_codes                            -0.000936\n",
       "sex_codes                               0.001393\n",
       "Health_codes                            1.000000\n",
       "dtype: float64"
      ]
     },
     "execution_count": 8,
     "metadata": {},
     "output_type": "execute_result"
    }
   ],
   "source": [
    "numerical_cols.corrwith(df['Health_codes'])"
   ]
  },
  {
   "cell_type": "code",
   "execution_count": 9,
   "metadata": {},
   "outputs": [],
   "source": [
    "X_data=numerical_cols.drop(columns=['Adult weight',\n",
    "       'Number of litters', 'Average number of puppies per litter',\n",
    "       'Total number of puppies','Parent Age','sex_codes','breed_codes','Health_codes'])"
   ]
  },
  {
   "cell_type": "code",
   "execution_count": 10,
   "metadata": {},
   "outputs": [
    {
     "data": {
      "text/html": [
       "<div>\n",
       "<style scoped>\n",
       "    .dataframe tbody tr th:only-of-type {\n",
       "        vertical-align: middle;\n",
       "    }\n",
       "\n",
       "    .dataframe tbody tr th {\n",
       "        vertical-align: top;\n",
       "    }\n",
       "\n",
       "    .dataframe thead th {\n",
       "        text-align: right;\n",
       "    }\n",
       "</style>\n",
       "<table border=\"1\" class=\"dataframe\">\n",
       "  <thead>\n",
       "    <tr style=\"text-align: right;\">\n",
       "      <th></th>\n",
       "      <th>Day</th>\n",
       "      <th>Weight</th>\n",
       "      <th>bith weight</th>\n",
       "    </tr>\n",
       "  </thead>\n",
       "  <tbody>\n",
       "    <tr>\n",
       "      <th>0</th>\n",
       "      <td>1</td>\n",
       "      <td>525.168006</td>\n",
       "      <td>445</td>\n",
       "    </tr>\n",
       "    <tr>\n",
       "      <th>1</th>\n",
       "      <td>1</td>\n",
       "      <td>584.848852</td>\n",
       "      <td>445</td>\n",
       "    </tr>\n",
       "    <tr>\n",
       "      <th>2</th>\n",
       "      <td>1</td>\n",
       "      <td>632.918388</td>\n",
       "      <td>423</td>\n",
       "    </tr>\n",
       "    <tr>\n",
       "      <th>3</th>\n",
       "      <td>1</td>\n",
       "      <td>350.110113</td>\n",
       "      <td>392</td>\n",
       "    </tr>\n",
       "    <tr>\n",
       "      <th>4</th>\n",
       "      <td>1</td>\n",
       "      <td>560.672904</td>\n",
       "      <td>443</td>\n",
       "    </tr>\n",
       "  </tbody>\n",
       "</table>\n",
       "</div>"
      ],
      "text/plain": [
       "   Day      Weight  bith weight\n",
       "0    1  525.168006          445\n",
       "1    1  584.848852          445\n",
       "2    1  632.918388          423\n",
       "3    1  350.110113          392\n",
       "4    1  560.672904          443"
      ]
     },
     "execution_count": 10,
     "metadata": {},
     "output_type": "execute_result"
    }
   ],
   "source": [
    "X_data.head()"
   ]
  },
  {
   "cell_type": "code",
   "execution_count": 11,
   "metadata": {},
   "outputs": [],
   "source": [
    "\n",
    "# categories = [('sex',['M','F']),('breed',['German Shepherd', 'English Mastiff', 'Maltese'])]\n",
    "# ohe_columns = [x[0] for x in categories]\n",
    "# ohe_categories = [x[1] for x in categories]\n",
    "# encoding= OneHotEncoder(categories=ohe_categories)\n",
    "# transformer = make_column_transformer((encoding, ohe_columns), remainder='passthrough')\n",
    "\n",
    "# # We convert the resulting arrays to DataFrames\n",
    "# dft=transformer.fit_transform(df)\n",
    "# df=pd.DataFrame(dft,columns=transformer.get_feature_names_out(),index=df.index)\n",
    "# df.rename(columns={\"remainder__Health\":\"Health\"},inplace=True)"
   ]
  },
  {
   "cell_type": "markdown",
   "metadata": {},
   "source": [
    "Specifying X and Y dataset"
   ]
  },
  {
   "cell_type": "code",
   "execution_count": 12,
   "metadata": {},
   "outputs": [],
   "source": [
    "with open(\"health_indicator_categories.pkl\",'wb') as f:\n",
    "    pickle.dump(df['Health'],f)"
   ]
  },
  {
   "cell_type": "code",
   "execution_count": 13,
   "metadata": {},
   "outputs": [],
   "source": [
    "# X=df.drop(columns=['Health'],axis=1)\n",
    "X=np.array(X_data)\n",
    "Y=np.array(df['Health'].cat.codes)"
   ]
  },
  {
   "cell_type": "markdown",
   "metadata": {},
   "source": [
    "Split data into test and train"
   ]
  },
  {
   "cell_type": "code",
   "execution_count": 26,
   "metadata": {},
   "outputs": [],
   "source": [
    "x_train, x_test, y_train, y_test = train_test_split(X,Y, test_size = 0.1, random_state = 1,shuffle=True)\n",
    "x_train= np.asarray(x_train).astype('float32')\n",
    "x_test= np.asarray(x_test).astype('float32')\n",
    "# x_train.shape, y_train.shape, x_test.shape, y_test.shape"
   ]
  },
  {
   "cell_type": "markdown",
   "metadata": {},
   "source": [
    "Model Training"
   ]
  },
  {
   "cell_type": "code",
   "execution_count": 15,
   "metadata": {},
   "outputs": [],
   "source": [
    "best_dct_model=None\n",
    "best=0"
   ]
  },
  {
   "cell_type": "markdown",
   "metadata": {},
   "source": [
    "1. Decision Tree Classifier"
   ]
  },
  {
   "cell_type": "code",
   "execution_count": 16,
   "metadata": {},
   "outputs": [
    {
     "data": {
      "text/plain": [
       "0.6975308641975309"
      ]
     },
     "execution_count": 16,
     "metadata": {},
     "output_type": "execute_result"
    }
   ],
   "source": [
    "for i in range (1,20):\n",
    "    dct_model=DecisionTreeClassifier(splitter='random',criterion=\"entropy\")\n",
    "    dct_model.fit(x_train,y_train)\n",
    "    dct_y_pred=dct_model.predict(x_test)\n",
    "    score =accuracy_score(y_test,dct_y_pred)\n",
    "    if score>best:\n",
    "        best_dct_model=dct_model\n",
    "        best=score\n",
    "\n",
    "best"
   ]
  },
  {
   "cell_type": "markdown",
   "metadata": {},
   "source": [
    "2. Random Forest"
   ]
  },
  {
   "cell_type": "code",
   "execution_count": 17,
   "metadata": {},
   "outputs": [
    {
     "name": "stdout",
     "output_type": "stream",
     "text": [
      "Best Score 0.7160493827160493 280\n"
     ]
    }
   ],
   "source": [
    "def try_rf(n):\n",
    "    random_forest_model=RandomForestClassifier(n_estimators=n,random_state=42)\n",
    "    random_forest_model.fit(x_train,y_train)\n",
    "    random_forest_y_pred=random_forest_model.predict(x_test)\n",
    "    score =accuracy_score(y_test,random_forest_y_pred)\n",
    "    return random_forest_model,random_forest_y_pred,score\n",
    "\n",
    "best_score = n = 0\n",
    "random_forest_best_model = knn_y_pred = None\n",
    "for i in range(200, 300,20):\n",
    "    random_forest_model, y_pred, score = try_rf(i)\n",
    "    if score > best_score:\n",
    "        best_score = score\n",
    "        random_forest_best_model = random_forest_model\n",
    "        random_forest_y_pred = y_pred\n",
    "        n = i\n",
    "print(\"Best Score\", best_score, n)"
   ]
  },
  {
   "cell_type": "markdown",
   "metadata": {},
   "source": [
    "3.  Logistic Regression"
   ]
  },
  {
   "cell_type": "code",
   "execution_count": 18,
   "metadata": {},
   "outputs": [
    {
     "data": {
      "text/plain": [
       "0.345679012345679"
      ]
     },
     "execution_count": 18,
     "metadata": {},
     "output_type": "execute_result"
    }
   ],
   "source": [
    "lg_model=LogisticRegression(max_iter=10000)\n",
    "lg_model.fit(x_train,y_train)\n",
    "lg_y_pred=lg_model.predict(x_test)\n",
    "score =accuracy_score(y_test,lg_y_pred)\n",
    "score"
   ]
  },
  {
   "cell_type": "markdown",
   "metadata": {},
   "source": [
    "4. Support  Vector Machine"
   ]
  },
  {
   "cell_type": "code",
   "execution_count": 19,
   "metadata": {},
   "outputs": [
    {
     "data": {
      "text/plain": [
       "0.3395061728395062"
      ]
     },
     "execution_count": 19,
     "metadata": {},
     "output_type": "execute_result"
    }
   ],
   "source": [
    "svc_model=SVC(max_iter=30000,probability=True)\n",
    "svc_model.fit(x_train,y_train)\n",
    "svc_pred=svc_model.predict(x_test)\n",
    "score =accuracy_score(y_test,svc_pred)\n",
    "score"
   ]
  },
  {
   "cell_type": "markdown",
   "metadata": {},
   "source": [
    "5. Naive Bayes"
   ]
  },
  {
   "cell_type": "code",
   "execution_count": 20,
   "metadata": {},
   "outputs": [
    {
     "data": {
      "text/plain": [
       "0.35185185185185186"
      ]
     },
     "execution_count": 20,
     "metadata": {},
     "output_type": "execute_result"
    }
   ],
   "source": [
    "nb_model=GaussianNB()\n",
    "nb_model.fit(x_train,y_train)\n",
    "nb_y_pred=nb_model.predict(x_test)\n",
    "score =accuracy_score(y_test,nb_y_pred)\n",
    "score"
   ]
  },
  {
   "cell_type": "markdown",
   "metadata": {},
   "source": [
    "6. Kth Nearest Neighbour"
   ]
  },
  {
   "cell_type": "code",
   "execution_count": 21,
   "metadata": {},
   "outputs": [
    {
     "name": "stdout",
     "output_type": "stream",
     "text": [
      "Best Score 0.4444444444444444 96\n"
     ]
    }
   ],
   "source": [
    "def try_knn(n_neighbors):\n",
    "    knn_model = KNeighborsClassifier(n_neighbors=n_neighbors,p=5,n_jobs=20,algorithm=\"kd_tree\")\n",
    "    knn_model.fit(x_train, y_train)\n",
    "    knn_y_pred = knn_model.predict(x_test)\n",
    "    score = accuracy_score(y_test, knn_y_pred)\n",
    "    return knn_model, knn_y_pred, score\n",
    "\n",
    "\n",
    "best_score = n = 0\n",
    "knn_best_model = knn_y_pred = None\n",
    "for i in range(1, 100):\n",
    "    knn_model, y_pred, score = try_knn(i)\n",
    "    if score > best_score:\n",
    "        best_score = score\n",
    "        knn_best_model = knn_model\n",
    "        knn_y_pred = y_pred\n",
    "        n = i\n",
    "print(\"Best Score\", best_score, n)"
   ]
  },
  {
   "cell_type": "markdown",
   "metadata": {},
   "source": [
    "Save the best Models"
   ]
  },
  {
   "cell_type": "code",
   "execution_count": 22,
   "metadata": {},
   "outputs": [],
   "source": [
    "with open('puppy_management_system_random_forest_model.pkl', 'wb') as file:\n",
    "    pickle.dump(random_forest_best_model, file)\n",
    "with open('puppy_management_system_decision_tree_model.pkl', 'wb') as file:\n",
    "    pickle.dump(best_dct_model, file)"
   ]
  },
  {
   "cell_type": "code",
   "execution_count": 23,
   "metadata": {},
   "outputs": [
    {
     "name": "stdout",
     "output_type": "stream",
     "text": [
      "RF: 0.7160493827160493 DCT: 0.6975308641975309\n"
     ]
    }
   ],
   "source": [
    "  # Load the saved model\n",
    "with open('puppy_management_system_random_forest_model.pkl', 'rb') as file:\n",
    "    loaded_rf_classifier = pickle.load(file)\n",
    "# Load the saved model\n",
    "with open('puppy_management_system_decision_tree_model.pkl', 'rb') as file:\n",
    "    loaded_dct_classifier = pickle.load(file)\n",
    "\n",
    "rf_y_pred=loaded_rf_classifier.predict(x_test)\n",
    "rf_score =accuracy_score(y_test,rf_y_pred)\n",
    "\n",
    "dct_y_pred=loaded_dct_classifier.predict(x_test)\n",
    "dct_score =accuracy_score(y_test,dct_y_pred)\n",
    "\n",
    "print(f\"RF: {rf_score} DCT: {dct_score}\")"
   ]
  },
  {
   "cell_type": "code",
   "execution_count": 24,
   "metadata": {},
   "outputs": [
    {
     "data": {
      "text/html": [
       "<div>\n",
       "<style scoped>\n",
       "    .dataframe tbody tr th:only-of-type {\n",
       "        vertical-align: middle;\n",
       "    }\n",
       "\n",
       "    .dataframe tbody tr th {\n",
       "        vertical-align: top;\n",
       "    }\n",
       "\n",
       "    .dataframe thead th {\n",
       "        text-align: right;\n",
       "    }\n",
       "</style>\n",
       "<table border=\"1\" class=\"dataframe\">\n",
       "  <thead>\n",
       "    <tr style=\"text-align: right;\">\n",
       "      <th></th>\n",
       "      <th>Day</th>\n",
       "      <th>Weight</th>\n",
       "      <th>bith weight</th>\n",
       "    </tr>\n",
       "  </thead>\n",
       "  <tbody>\n",
       "    <tr>\n",
       "      <th>0</th>\n",
       "      <td>1</td>\n",
       "      <td>525.168006</td>\n",
       "      <td>445</td>\n",
       "    </tr>\n",
       "  </tbody>\n",
       "</table>\n",
       "</div>"
      ],
      "text/plain": [
       "   Day      Weight  bith weight\n",
       "0    1  525.168006          445"
      ]
     },
     "execution_count": 24,
     "metadata": {},
     "output_type": "execute_result"
    }
   ],
   "source": [
    "d_pred=pd.DataFrame(data={\n",
    "                        \"Day\":[1],\n",
    "                        \"Weight\":[525.168006],\n",
    "                        \"bith weight\":[445]\n",
    "                          }\n",
    "                    )\n",
    "d_pred"
   ]
  },
  {
   "cell_type": "code",
   "execution_count": 25,
   "metadata": {},
   "outputs": [
    {
     "data": {
      "text/plain": [
       "0"
      ]
     },
     "execution_count": 25,
     "metadata": {},
     "output_type": "execute_result"
    }
   ],
   "source": [
    "loaded_rf_classifier.predict(np.array(d_pred))[0]\n"
   ]
  }
 ],
 "metadata": {
  "kernelspec": {
   "display_name": "Python 3",
   "language": "python",
   "name": "python3"
  },
  "language_info": {
   "codemirror_mode": {
    "name": "ipython",
    "version": 3
   },
   "file_extension": ".py",
   "mimetype": "text/x-python",
   "name": "python",
   "nbconvert_exporter": "python",
   "pygments_lexer": "ipython3",
   "version": "3.11.5"
  }
 },
 "nbformat": 4,
 "nbformat_minor": 2
}
